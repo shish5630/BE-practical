{
  "nbformat": 4,
  "nbformat_minor": 0,
  "metadata": {
    "colab": {
      "provenance": [],
      "gpuType": "T4"
    },
    "kernelspec": {
      "name": "python3",
      "display_name": "Python 3"
    },
    "language_info": {
      "name": "python"
    },
    "accelerator": "GPU",
    "gpuClass": "standard"
  },
  "cells": [
    {
      "cell_type": "code",
      "execution_count": null,
      "metadata": {
        "colab": {
          "base_uri": "https://localhost:8080/"
        },
        "id": "enfjq6aK3GZB",
        "outputId": "215ab6dd-a88d-41fb-82d2-34979dcfa737"
      },
      "outputs": [
        {
          "output_type": "stream",
          "name": "stdout",
          "text": [
            "nvcc: NVIDIA (R) Cuda compiler driver\n",
            "Copyright (c) 2005-2022 NVIDIA Corporation\n",
            "Built on Wed_Sep_21_10:33:58_PDT_2022\n",
            "Cuda compilation tools, release 11.8, V11.8.89\n",
            "Build cuda_11.8.r11.8/compiler.31833905_0\n"
          ]
        }
      ],
      "source": [
        "!nvcc --version"
      ]
    },
    {
      "cell_type": "code",
      "source": [
        "%%writefile vector.cu\n",
        "#include<bits/stdc++.h>\n",
        "#include<cstdlib>\n",
        "using namespace std;\n",
        "#define N 512\n",
        "\n",
        "__global__ void add(int *a,int *b,int *c){\n",
        "  int idx = blockDim.x * blockIdx.x + threadIdx.x;\n",
        "  if(idx<N)\n",
        "  {\n",
        "    c[idx] = a[idx] + b[idx];\n",
        "  }\n",
        "}\n",
        "\n",
        "int main(){\n",
        "  int *a,*b,*c;\n",
        "  int *da,*db,*dc;\n",
        "  int size = N*sizeof(int);\n",
        "\n",
        "  a = (int *)malloc(size);\n",
        "  b = (int *)malloc(size);\n",
        "  c = (int *)malloc(size);\n",
        "\n",
        "  cudaMalloc((void **)&da,size);\n",
        "  cudaMalloc((void **)&db,size);\n",
        "  cudaMalloc((void **)&dc,size);\n",
        "\n",
        "  for(int i=0;i<N;i++){\n",
        "    a[i]=i;\n",
        "    b[i]=i*2;\n",
        "  }\n",
        "\n",
        "  cudaMemcpy(da,a,size,cudaMemcpyHostToDevice);\n",
        "  cudaMemcpy(db,b,size,cudaMemcpyHostToDevice);\n",
        "  cudaMemcpy(dc,c,size,cudaMemcpyHostToDevice);\n",
        "\n",
        "  add<<<N,1>>>(da,db,dc);\n",
        "\n",
        "  cudaMemcpy(c,dc,size,cudaMemcpyDeviceToHost);\n",
        "\n",
        "  cout <<\"c[0] = \"<<c[0]<<\" ,c[\"<<N-1<<\"] = \"<<c[N-1];\n",
        "  free(a);\n",
        "  free(b);\n",
        "  free(c);\n",
        "\n",
        "  cudaFree(da);\n",
        "  cudaFree(db);\n",
        "  cudaFree(dc);\n",
        "\n",
        "  return 0;\n",
        "\n",
        "}"
      ],
      "metadata": {
        "colab": {
          "base_uri": "https://localhost:8080/"
        },
        "id": "Z29TQdxYFxUX",
        "outputId": "1fb17bd5-0467-4c91-bbf6-4dfb10825ada"
      },
      "execution_count": 1,
      "outputs": [
        {
          "output_type": "stream",
          "name": "stdout",
          "text": [
            "Writing vector.cu\n"
          ]
        }
      ]
    },
    {
      "cell_type": "code",
      "source": [
        "!nvcc vector.cu -o vect"
      ],
      "metadata": {
        "id": "A6HUaZX-HPij"
      },
      "execution_count": 2,
      "outputs": []
    },
    {
      "cell_type": "code",
      "source": [
        "!./vect\n"
      ],
      "metadata": {
        "colab": {
          "base_uri": "https://localhost:8080/"
        },
        "id": "V0SFMTALIuq1",
        "outputId": "5dd35028-3eda-41bd-8cab-d65b69de2754"
      },
      "execution_count": 3,
      "outputs": [
        {
          "output_type": "stream",
          "name": "stdout",
          "text": [
            "c[0] = 0 ,c[511] = 1533"
          ]
        }
      ]
    },
    {
      "cell_type": "code",
      "source": [
        "!nvprof ./vect"
      ],
      "metadata": {
        "colab": {
          "base_uri": "https://localhost:8080/"
        },
        "id": "erz4qA_ELahX",
        "outputId": "03038c1b-3dcc-4239-f2c4-da372006a029"
      },
      "execution_count": 4,
      "outputs": [
        {
          "output_type": "stream",
          "name": "stdout",
          "text": [
            "==488== NVPROF is profiling process 488, command: ./vect\n",
            "==488== Profiling application: ./vect\n",
            "c[0] = 0 ,c[511] = 1533==488== Profiling result:\n",
            "            Type  Time(%)      Time     Calls       Avg       Min       Max  Name\n",
            " GPU activities:   44.42%  5.6000us         1  5.6000us  5.6000us  5.6000us  add(int*, int*, int*)\n",
            "                   38.07%  4.8000us         3  1.6000us  1.5040us  1.7920us  [CUDA memcpy HtoD]\n",
            "                   17.51%  2.2080us         1  2.2080us  2.2080us  2.2080us  [CUDA memcpy DtoH]\n",
            "      API calls:   98.97%  126.62ms         3  42.208ms  2.6800us  126.62ms  cudaMalloc\n",
            "                    0.76%  975.75us         1  975.75us  975.75us  975.75us  cuDeviceGetPCIBusId\n",
            "                    0.11%  140.83us       101  1.3940us     133ns  62.183us  cuDeviceGetAttribute\n",
            "                    0.07%  89.367us         3  29.789us  2.7770us  80.410us  cudaFree\n",
            "                    0.05%  62.075us         4  15.518us  8.0630us  23.428us  cudaMemcpy\n",
            "                    0.02%  26.515us         1  26.515us  26.515us  26.515us  cuDeviceGetName\n",
            "                    0.02%  22.042us         1  22.042us  22.042us  22.042us  cudaLaunchKernel\n",
            "                    0.00%  2.2280us         3     742ns     279ns  1.6020us  cuDeviceGetCount\n",
            "                    0.00%  1.1240us         2     562ns     194ns     930ns  cuDeviceGet\n",
            "                    0.00%     578ns         1     578ns     578ns     578ns  cuModuleGetLoadingMode\n",
            "                    0.00%     544ns         1     544ns     544ns     544ns  cuDeviceTotalMem\n",
            "                    0.00%     251ns         1     251ns     251ns     251ns  cuDeviceGetUuid\n"
          ]
        }
      ]
    }
  ]
}