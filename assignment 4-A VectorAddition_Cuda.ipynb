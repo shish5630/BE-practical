{
  "nbformat": 4,
  "nbformat_minor": 0,
  "metadata": {
    "colab": {
      "provenance": [],
      "gpuType": "T4"
    },
    "kernelspec": {
      "name": "python3",
      "display_name": "Python 3"
    },
    "language_info": {
      "name": "python"
    },
    "accelerator": "GPU",
    "gpuClass": "standard"
  },
  "cells": [
    {
      "cell_type": "code",
      "execution_count": 1,
      "metadata": {
        "colab": {
          "base_uri": "https://localhost:8080/"
        },
        "id": "enfjq6aK3GZB",
        "outputId": "215ab6dd-a88d-41fb-82d2-34979dcfa737"
      },
      "outputs": [
        {
          "output_type": "stream",
          "name": "stdout",
          "text": [
            "nvcc: NVIDIA (R) Cuda compiler driver\n",
            "Copyright (c) 2005-2022 NVIDIA Corporation\n",
            "Built on Wed_Sep_21_10:33:58_PDT_2022\n",
            "Cuda compilation tools, release 11.8, V11.8.89\n",
            "Build cuda_11.8.r11.8/compiler.31833905_0\n"
          ]
        }
      ],
      "source": [
        "!nvcc --version"
      ]
    },
    {
      "cell_type": "code",
      "source": [
        "%%writefile vector.cu\n",
        "#include<bits/stdc++.h>\n",
        "#include<cstdlib>\n",
        "using namespace std;\n",
        "#define N 512\n",
        "\n",
        "__global__ void add(int *a,int *b,int *c){\n",
        "  int idx = blockDim.x + blockIdx.x + threadIdx.x;\n",
        "  if(idx<N)\n",
        "  {\n",
        "    c[idx] = a[idx] + b[idx];\n",
        "  }\n",
        "}\n",
        "\n",
        "int main(){\n",
        "  int *a,*b,*c;\n",
        "  int *da,*db,*dc;\n",
        "  int size = N*sizeof(int);\n",
        "\n",
        "  a = (int *)malloc(size);\n",
        "  b = (int *)malloc(size);\n",
        "  c = (int *)malloc(size);\n",
        "\n",
        "  cudaMalloc((void **)&da,size);\n",
        "  cudaMalloc((void **)&db,size);\n",
        "  cudaMalloc((void **)&dc,size);\n",
        "\n",
        "  for(int i=0;i<N;i++){\n",
        "    a[i]=i;\n",
        "    b[i]=i*2;\n",
        "  }\n",
        "\n",
        "  cudaMemcpy(da,a,size,cudaMemcpyHostToDevice);\n",
        "  cudaMemcpy(db,b,size,cudaMemcpyHostToDevice);\n",
        "  cudaMemcpy(dc,c,size,cudaMemcpyHostToDevice);\n",
        "\n",
        "  add<<<N,1>>>(da,db,dc);\n",
        "\n",
        "  cudaMemcpy(c,dc,size,cudaMemcpyDeviceToHost);\n",
        "\n",
        "  cout <<\"c[0] = \"<<c[0]<<\" ,c[\"<<N-1<<\"] = \"<<c[N-1];\n",
        "  free(a);\n",
        "  free(b);\n",
        "  free(c);\n",
        "\n",
        "  cudaFree(da);\n",
        "  cudaFree(db);\n",
        "  cudaFree(dc);\n",
        "\n",
        "  return 0;\n",
        "\n",
        "}"
      ],
      "metadata": {
        "colab": {
          "base_uri": "https://localhost:8080/"
        },
        "id": "Z29TQdxYFxUX",
        "outputId": "2d646495-5904-4e6c-8654-58f4878cf9be"
      },
      "execution_count": 10,
      "outputs": [
        {
          "output_type": "stream",
          "name": "stdout",
          "text": [
            "Overwriting vector.cu\n"
          ]
        }
      ]
    },
    {
      "cell_type": "code",
      "source": [
        "!nvcc vector.cu -o vect"
      ],
      "metadata": {
        "id": "A6HUaZX-HPij"
      },
      "execution_count": 11,
      "outputs": []
    },
    {
      "cell_type": "code",
      "source": [
        "!./vect\n"
      ],
      "metadata": {
        "colab": {
          "base_uri": "https://localhost:8080/"
        },
        "id": "V0SFMTALIuq1",
        "outputId": "068566ae-7115-4009-8243-867cb687550e"
      },
      "execution_count": 12,
      "outputs": [
        {
          "output_type": "stream",
          "name": "stdout",
          "text": [
            "c[0] = 0 ,c[511] = 1533"
          ]
        }
      ]
    },
    {
      "cell_type": "code",
      "source": [
        "!nvprof ./vect"
      ],
      "metadata": {
        "colab": {
          "base_uri": "https://localhost:8080/"
        },
        "id": "erz4qA_ELahX",
        "outputId": "26265981-893c-4e40-de54-97dbaed71df8"
      },
      "execution_count": 13,
      "outputs": [
        {
          "output_type": "stream",
          "name": "stdout",
          "text": [
            "==1176== NVPROF is profiling process 1176, command: ./vect\n",
            "==1176== Profiling application: ./vect\n",
            "c[0] = 0 ,c[511] = 1533==1176== Profiling result:\n",
            "            Type  Time(%)      Time     Calls       Avg       Min       Max  Name\n",
            " GPU activities:   44.06%  5.6960us         1  5.6960us  5.6960us  5.6960us  add(int*, int*, int*)\n",
            "                   38.86%  5.0240us         3  1.6740us  1.5360us  1.9520us  [CUDA memcpy HtoD]\n",
            "                   17.09%  2.2090us         1  2.2090us  2.2090us  2.2090us  [CUDA memcpy DtoH]\n",
            "      API calls:   99.38%  220.51ms         3  73.502ms  2.4730us  220.50ms  cudaMalloc\n",
            "                    0.45%  1.0033ms         1  1.0033ms  1.0033ms  1.0033ms  cuDeviceGetPCIBusId\n",
            "                    0.06%  123.20us       101  1.2190us     125ns  50.667us  cuDeviceGetAttribute\n",
            "                    0.04%  98.999us         3  32.999us  2.5760us  87.428us  cudaFree\n",
            "                    0.04%  80.165us         4  20.041us  8.3570us  40.614us  cudaMemcpy\n",
            "                    0.01%  30.854us         1  30.854us  30.854us  30.854us  cuDeviceGetName\n",
            "                    0.01%  26.124us         1  26.124us  26.124us  26.124us  cudaLaunchKernel\n",
            "                    0.00%  1.8360us         3     612ns     226ns  1.3320us  cuDeviceGetCount\n",
            "                    0.00%  1.0350us         2     517ns     235ns     800ns  cuDeviceGet\n",
            "                    0.00%     440ns         1     440ns     440ns     440ns  cuModuleGetLoadingMode\n",
            "                    0.00%     417ns         1     417ns     417ns     417ns  cuDeviceTotalMem\n",
            "                    0.00%     309ns         1     309ns     309ns     309ns  cuDeviceGetUuid\n"
          ]
        }
      ]
    }
  ]
}